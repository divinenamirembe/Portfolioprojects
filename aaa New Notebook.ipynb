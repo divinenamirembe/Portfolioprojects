{
 "cells": [
  {
   "cell_type": "code",
   "execution_count": 1,
   "id": "d491d21b-64c6-4e72-b24a-a7d1331b6b5a",
   "metadata": {},
   "outputs": [
    {
     "name": "stdout",
     "output_type": "stream",
     "text": [
      "Hello World\n"
     ]
    }
   ],
   "source": [
    "print(\"Hello World\")"
   ]
  },
  {
   "cell_type": "markdown",
   "id": "0601e5eb-dd0a-4667-a25b-79d7c8967c0d",
   "metadata": {},
   "source": [
    "# Fisrt Notebook"
   ]
  },
  {
   "cell_type": "code",
   "execution_count": null,
   "id": "117b6c22-0406-450e-8a7d-1f3f908a81cc",
   "metadata": {},
   "outputs": [],
   "source": []
  },
  {
   "cell_type": "code",
   "execution_count": null,
   "id": "784e7970-682d-49fa-9bd8-2831ce0ad382",
   "metadata": {},
   "outputs": [],
   "source": []
  },
  {
   "cell_type": "code",
   "execution_count": null,
   "id": "537d8f0f-8e55-407b-b874-3e63a370f492",
   "metadata": {},
   "outputs": [],
   "source": []
  },
  {
   "cell_type": "code",
   "execution_count": null,
   "id": "13bf7fa0-abcb-4bd4-af00-98ac148a70a1",
   "metadata": {},
   "outputs": [],
   "source": [
    "# here "
   ]
  },
  {
   "cell_type": "code",
   "execution_count": null,
   "id": "8ac97be9-330f-49c1-af36-9e400f6e4a97",
   "metadata": {},
   "outputs": [],
   "source": []
  },
  {
   "cell_type": "code",
   "execution_count": null,
   "id": "93a26bd6-46d8-4728-923c-8d680fe47fd6",
   "metadata": {},
   "outputs": [],
   "source": [
    "# here "
   ]
  },
  {
   "cell_type": "code",
   "execution_count": null,
   "id": "31d08fb6-eee2-4973-838e-cb915b644e0b",
   "metadata": {},
   "outputs": [],
   "source": []
  }
 ],
 "metadata": {
  "kernelspec": {
   "display_name": "Python 3 (ipykernel)",
   "language": "python",
   "name": "python3"
  },
  "language_info": {
   "codemirror_mode": {
    "name": "ipython",
    "version": 3
   },
   "file_extension": ".py",
   "mimetype": "text/x-python",
   "name": "python",
   "nbconvert_exporter": "python",
   "pygments_lexer": "ipython3",
   "version": "3.12.4"
  }
 },
 "nbformat": 4,
 "nbformat_minor": 5
}
