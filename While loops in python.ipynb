{
 "cells": [
  {
   "cell_type": "markdown",
   "id": "3f61d55e-2d03-4c6e-9752-b50b471ef96a",
   "metadata": {},
   "source": [
    "# While loops "
   ]
  },
  {
   "cell_type": "code",
   "execution_count": 2,
   "id": "9c16d7c0-4c21-46db-95b2-ec7499e3c06e",
   "metadata": {},
   "outputs": [
    {
     "name": "stdout",
     "output_type": "stream",
     "text": [
      "0\n",
      "1\n",
      "2\n",
      "3\n",
      "4\n"
     ]
    }
   ],
   "source": [
    "number = 0 \n",
    "while number < 5:\n",
    "    print(number)\n",
    "    number = number + 1"
   ]
  },
  {
   "cell_type": "code",
   "execution_count": 4,
   "id": "fc947cf2-2421-4fd0-9495-12e14465e939",
   "metadata": {},
   "outputs": [
    {
     "name": "stdout",
     "output_type": "stream",
     "text": [
      "0\n",
      "1\n",
      "2\n",
      "3\n"
     ]
    }
   ],
   "source": [
    "number = 0 \n",
    "while number < 5:\n",
    "    print(number)\n",
    "    if number == 3: \n",
    "        break \n",
    "    number = number + 1"
   ]
  },
  {
   "cell_type": "code",
   "execution_count": 8,
   "id": "bfb5bcca-200b-44ad-94ba-3e8985b42a28",
   "metadata": {},
   "outputs": [
    {
     "name": "stdout",
     "output_type": "stream",
     "text": [
      "0\n",
      "1\n",
      "2\n",
      "3\n",
      "4\n",
      "No longer < 5\n"
     ]
    }
   ],
   "source": [
    "number = 0 \n",
    "while number < 5:\n",
    "    print(number)\n",
    "    if number == 6: \n",
    "        break \n",
    "    number = number + 1\n",
    "else:\n",
    "    print('No longer < 5')"
   ]
  },
  {
   "cell_type": "code",
   "execution_count": 10,
   "id": "a89a3361-18a9-4320-b1cb-458fbee20666",
   "metadata": {},
   "outputs": [
    {
     "name": "stdout",
     "output_type": "stream",
     "text": [
      "0\n",
      "1\n",
      "2\n",
      "3\n"
     ]
    }
   ],
   "source": [
    "number = 0\n",
    "\n",
    "while number < 5:\n",
    "    print(number)\n",
    "    if number == 3: \n",
    "        break \n",
    "    number = number + 1\n",
    "else:\n",
    "    print('No longer < 5')"
   ]
  },
  {
   "cell_type": "code",
   "execution_count": 22,
   "id": "f8609a52-ee40-4eae-8382-9cb4f98f9bdc",
   "metadata": {},
   "outputs": [
    {
     "name": "stdout",
     "output_type": "stream",
     "text": [
      "1\n",
      "2\n",
      "4\n",
      "5\n",
      "No longer < 5\n"
     ]
    }
   ],
   "source": [
    "number = 0 \n",
    "while number < 5:\n",
    "    number = number + 1\n",
    "    if number == 3: \n",
    "       continue \n",
    "    print(number)\n",
    "else:\n",
    "    print('No longer < 5')"
   ]
  },
  {
   "cell_type": "code",
   "execution_count": null,
   "id": "f2e4ac6c-93c5-4b84-984a-c0efc6b936b0",
   "metadata": {},
   "outputs": [],
   "source": []
  },
  {
   "cell_type": "code",
   "execution_count": null,
   "id": "e679a75b-f454-4619-a854-cca28e6217b0",
   "metadata": {},
   "outputs": [],
   "source": []
  }
 ],
 "metadata": {
  "kernelspec": {
   "display_name": "Python 3 (ipykernel)",
   "language": "python",
   "name": "python3"
  },
  "language_info": {
   "codemirror_mode": {
    "name": "ipython",
    "version": 3
   },
   "file_extension": ".py",
   "mimetype": "text/x-python",
   "name": "python",
   "nbconvert_exporter": "python",
   "pygments_lexer": "ipython3",
   "version": "3.12.4"
  }
 },
 "nbformat": 4,
 "nbformat_minor": 5
}
