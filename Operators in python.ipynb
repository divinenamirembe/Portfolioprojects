{
 "cells": [
  {
   "cell_type": "markdown",
   "id": "f7a89f22-ca9a-420e-9cfc-46a96386a7d2",
   "metadata": {},
   "source": [
    "# Comparison Operators"
   ]
  },
  {
   "cell_type": "code",
   "execution_count": 2,
   "id": "8d3b1111-71ea-432b-848d-81d5f7b7a795",
   "metadata": {},
   "outputs": [
    {
     "data": {
      "text/plain": [
       "True"
      ]
     },
     "execution_count": 2,
     "metadata": {},
     "output_type": "execute_result"
    }
   ],
   "source": [
    "10 == 10"
   ]
  },
  {
   "cell_type": "code",
   "execution_count": 4,
   "id": "f68337af-fd65-4ab3-ab7c-3a35ebe2bc0c",
   "metadata": {},
   "outputs": [
    {
     "data": {
      "text/plain": [
       "False"
      ]
     },
     "execution_count": 4,
     "metadata": {},
     "output_type": "execute_result"
    }
   ],
   "source": [
    "10 == 50"
   ]
  },
  {
   "cell_type": "code",
   "execution_count": 6,
   "id": "beabcefd-8ce6-4f7d-9c19-a400f15ce176",
   "metadata": {},
   "outputs": [
    {
     "data": {
      "text/plain": [
       "True"
      ]
     },
     "execution_count": 6,
     "metadata": {},
     "output_type": "execute_result"
    }
   ],
   "source": [
    "10 != 50"
   ]
  },
  {
   "cell_type": "code",
   "execution_count": 8,
   "id": "cec0a168-d058-4dcf-801e-284998f77e47",
   "metadata": {},
   "outputs": [
    {
     "data": {
      "text/plain": [
       "False"
      ]
     },
     "execution_count": 8,
     "metadata": {},
     "output_type": "execute_result"
    }
   ],
   "source": [
    "'Vanilla' == 'Chocolate'"
   ]
  },
  {
   "cell_type": "code",
   "execution_count": 10,
   "id": "37460b2b-c659-4f8d-a232-3fa95f0a6c46",
   "metadata": {},
   "outputs": [
    {
     "data": {
      "text/plain": [
       "True"
      ]
     },
     "execution_count": 10,
     "metadata": {},
     "output_type": "execute_result"
    }
   ],
   "source": [
    "'Vanilla' == 'Vanilla'"
   ]
  },
  {
   "cell_type": "code",
   "execution_count": 12,
   "id": "19d1ee0b-5dea-4d5d-954a-c391e265f3e6",
   "metadata": {},
   "outputs": [
    {
     "data": {
      "text/plain": [
       "False"
      ]
     },
     "execution_count": 12,
     "metadata": {},
     "output_type": "execute_result"
    }
   ],
   "source": [
    "x = 'Vanilla'\n",
    "y = 'Chocolate' \n",
    "\n",
    "x == y "
   ]
  },
  {
   "cell_type": "code",
   "execution_count": 14,
   "id": "1bee70d9-94fc-48c7-8d27-36cccdbf99ab",
   "metadata": {},
   "outputs": [
    {
     "data": {
      "text/plain": [
       "True"
      ]
     },
     "execution_count": 14,
     "metadata": {},
     "output_type": "execute_result"
    }
   ],
   "source": [
    "x = 'Vanilla'\n",
    "y = 'Chocolate' \n",
    "\n",
    "x != y "
   ]
  },
  {
   "cell_type": "code",
   "execution_count": null,
   "id": "bddb1c49-9dea-4f91-a5a6-51a52da53c66",
   "metadata": {},
   "outputs": [],
   "source": []
  },
  {
   "cell_type": "code",
   "execution_count": 16,
   "id": "2d5138c8-6bd0-40ce-8df5-f0feded087ca",
   "metadata": {},
   "outputs": [
    {
     "data": {
      "text/plain": [
       "True"
      ]
     },
     "execution_count": 16,
     "metadata": {},
     "output_type": "execute_result"
    }
   ],
   "source": [
    "10 < 50"
   ]
  },
  {
   "cell_type": "code",
   "execution_count": 18,
   "id": "47ac1b49-b8da-47a4-834e-5df664fe5275",
   "metadata": {},
   "outputs": [
    {
     "data": {
      "text/plain": [
       "False"
      ]
     },
     "execution_count": 18,
     "metadata": {},
     "output_type": "execute_result"
    }
   ],
   "source": [
    "10 < 10"
   ]
  },
  {
   "cell_type": "code",
   "execution_count": 20,
   "id": "b5661bca-21f2-40c6-9829-0e8af6d962fb",
   "metadata": {},
   "outputs": [
    {
     "data": {
      "text/plain": [
       "True"
      ]
     },
     "execution_count": 20,
     "metadata": {},
     "output_type": "execute_result"
    }
   ],
   "source": [
    "10 <= 10"
   ]
  },
  {
   "cell_type": "code",
   "execution_count": 22,
   "id": "a99c8d54-545f-4309-9fe4-6dd8f5027b16",
   "metadata": {},
   "outputs": [
    {
     "data": {
      "text/plain": [
       "True"
      ]
     },
     "execution_count": 22,
     "metadata": {},
     "output_type": "execute_result"
    }
   ],
   "source": [
    "10 >= 10"
   ]
  },
  {
   "cell_type": "code",
   "execution_count": 24,
   "id": "563331f3-d172-47d0-9272-ae4deb92770a",
   "metadata": {},
   "outputs": [
    {
     "data": {
      "text/plain": [
       "True"
      ]
     },
     "execution_count": 24,
     "metadata": {},
     "output_type": "execute_result"
    }
   ],
   "source": [
    "50 >= 10"
   ]
  },
  {
   "cell_type": "code",
   "execution_count": null,
   "id": "ee4f93e5-aae7-459d-8534-fef8b8739a09",
   "metadata": {},
   "outputs": [],
   "source": []
  },
  {
   "cell_type": "markdown",
   "id": "9adbb20f-60c4-4595-a8d4-4c580388c725",
   "metadata": {},
   "source": [
    "# Logical Operators\n"
   ]
  },
  {
   "cell_type": "code",
   "execution_count": 31,
   "id": "edb6a953-fe95-4e66-91fa-1feb6a58824d",
   "metadata": {},
   "outputs": [
    {
     "data": {
      "text/plain": [
       "False"
      ]
     },
     "execution_count": 31,
     "metadata": {},
     "output_type": "execute_result"
    }
   ],
   "source": [
    "10 > 50 and 50 > 10"
   ]
  },
  {
   "cell_type": "code",
   "execution_count": 33,
   "id": "5c58c6dd-586d-4bb2-a957-d5b71764e100",
   "metadata": {},
   "outputs": [
    {
     "data": {
      "text/plain": [
       "True"
      ]
     },
     "execution_count": 33,
     "metadata": {},
     "output_type": "execute_result"
    }
   ],
   "source": [
    "70 > 50 and 50 > 10"
   ]
  },
  {
   "cell_type": "code",
   "execution_count": 35,
   "id": "e0a58d80-3fed-4ff1-8b94-36a82e7752b0",
   "metadata": {},
   "outputs": [
    {
     "data": {
      "text/plain": [
       "True"
      ]
     },
     "execution_count": 35,
     "metadata": {},
     "output_type": "execute_result"
    }
   ],
   "source": [
    "10 > 50 or 50 > 10"
   ]
  },
  {
   "cell_type": "code",
   "execution_count": 39,
   "id": "0a938a23-1816-4222-ace1-b21afe541220",
   "metadata": {},
   "outputs": [
    {
     "data": {
      "text/plain": [
       "True"
      ]
     },
     "execution_count": 39,
     "metadata": {},
     "output_type": "execute_result"
    }
   ],
   "source": [
    "'Vanilla' > 'Chocolate' or 50 > 10"
   ]
  },
  {
   "cell_type": "code",
   "execution_count": 41,
   "id": "7c34092c-1887-4c4d-a7a3-bca7a94ad45a",
   "metadata": {},
   "outputs": [
    {
     "data": {
      "text/plain": [
       "True"
      ]
     },
     "execution_count": 41,
     "metadata": {},
     "output_type": "execute_result"
    }
   ],
   "source": [
    "'Vanilla' > 'Chocolate' and 50 > 10"
   ]
  },
  {
   "cell_type": "code",
   "execution_count": 43,
   "id": "126c4516-a3a4-43e8-a3c3-a0f5d283d554",
   "metadata": {},
   "outputs": [
    {
     "data": {
      "text/plain": [
       "False"
      ]
     },
     "execution_count": 43,
     "metadata": {},
     "output_type": "execute_result"
    }
   ],
   "source": [
    "not(50 > 10)"
   ]
  },
  {
   "cell_type": "code",
   "execution_count": null,
   "id": "7ae162b9-62bb-4bbc-af69-65156fb69bed",
   "metadata": {},
   "outputs": [],
   "source": []
  },
  {
   "cell_type": "markdown",
   "id": "0fb93f76-d874-4f63-a638-f4fafdd2268c",
   "metadata": {},
   "source": [
    "# Membership Operators"
   ]
  },
  {
   "cell_type": "code",
   "execution_count": 48,
   "id": "caaac972-6e12-4401-889d-0b1f6585a5ef",
   "metadata": {},
   "outputs": [
    {
     "data": {
      "text/plain": [
       "True"
      ]
     },
     "execution_count": 48,
     "metadata": {},
     "output_type": "execute_result"
    }
   ],
   "source": [
    "ice_cream = 'I love chocolate ice cream'\n",
    "\n",
    "'love' in ice_cream"
   ]
  },
  {
   "cell_type": "code",
   "execution_count": 50,
   "id": "9eeb58a5-0f10-4d3b-b2e5-a7d9bcdb385d",
   "metadata": {},
   "outputs": [
    {
     "data": {
      "text/plain": [
       "True"
      ]
     },
     "execution_count": 50,
     "metadata": {},
     "output_type": "execute_result"
    }
   ],
   "source": [
    "ice_cream = 'I love chocolate ice cream'\n",
    "\n",
    "'love' in 'I love chocolate ice cream'"
   ]
  },
  {
   "cell_type": "code",
   "execution_count": 54,
   "id": "ceb87276-74b4-49c2-8bc1-9166ffce2e1a",
   "metadata": {},
   "outputs": [
    {
     "data": {
      "text/plain": [
       "True"
      ]
     },
     "execution_count": 54,
     "metadata": {},
     "output_type": "execute_result"
    }
   ],
   "source": [
    "Scoops = [1, 2, 3, 4, 5]\n",
    "2 in Scoops"
   ]
  },
  {
   "cell_type": "code",
   "execution_count": 56,
   "id": "31ebd59e-1bff-409b-bdca-0a4052e1b8ad",
   "metadata": {},
   "outputs": [
    {
     "data": {
      "text/plain": [
       "True"
      ]
     },
     "execution_count": 56,
     "metadata": {},
     "output_type": "execute_result"
    }
   ],
   "source": [
    "Scoops = [1, 2, 3, 4, 5]\n",
    "6 not in Scoops"
   ]
  },
  {
   "cell_type": "code",
   "execution_count": 58,
   "id": "69eab195-70dd-4f48-901e-6e4a8c23c717",
   "metadata": {},
   "outputs": [
    {
     "data": {
      "text/plain": [
       "True"
      ]
     },
     "execution_count": 58,
     "metadata": {},
     "output_type": "execute_result"
    }
   ],
   "source": [
    "Scoops = [1, 2, 3, 4, 5]\n",
    "wanted_scoops = 8 \n",
    "\n",
    "wanted_scoops not in Scoops"
   ]
  },
  {
   "cell_type": "code",
   "execution_count": 60,
   "id": "172d4c0d-9512-450d-91ec-e31434d1073a",
   "metadata": {},
   "outputs": [
    {
     "data": {
      "text/plain": [
       "False"
      ]
     },
     "execution_count": 60,
     "metadata": {},
     "output_type": "execute_result"
    }
   ],
   "source": [
    "Scoops = [1, 2, 3, 4, 5]\n",
    "wanted_scoops = 8 \n",
    "\n",
    "wanted_scoops in Scoops"
   ]
  },
  {
   "cell_type": "code",
   "execution_count": null,
   "id": "c017fbe5-69fa-4cff-bdc8-b59e62e96ab6",
   "metadata": {},
   "outputs": [],
   "source": []
  },
  {
   "cell_type": "code",
   "execution_count": null,
   "id": "d71623f5-0379-4776-9a8a-5f1a2ed6f360",
   "metadata": {},
   "outputs": [],
   "source": []
  },
  {
   "cell_type": "code",
   "execution_count": null,
   "id": "885b768d-15db-4bc5-a7e9-e8de3af0f1f7",
   "metadata": {},
   "outputs": [],
   "source": []
  },
  {
   "cell_type": "code",
   "execution_count": null,
   "id": "9b402d5b-56ca-421b-ad86-fbeaa79d8261",
   "metadata": {},
   "outputs": [],
   "source": []
  },
  {
   "cell_type": "code",
   "execution_count": null,
   "id": "10dbb11d-0667-4a92-9b8a-68284f2cbb84",
   "metadata": {},
   "outputs": [],
   "source": []
  }
 ],
 "metadata": {
  "kernelspec": {
   "display_name": "Python 3 (ipykernel)",
   "language": "python",
   "name": "python3"
  },
  "language_info": {
   "codemirror_mode": {
    "name": "ipython",
    "version": 3
   },
   "file_extension": ".py",
   "mimetype": "text/x-python",
   "name": "python",
   "nbconvert_exporter": "python",
   "pygments_lexer": "ipython3",
   "version": "3.12.4"
  }
 },
 "nbformat": 4,
 "nbformat_minor": 5
}
