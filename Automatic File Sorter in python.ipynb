{
 "cells": [
  {
   "cell_type": "markdown",
   "id": "3f55c719-8296-4eed-9192-ca036fef8ee1",
   "metadata": {},
   "source": [
    "# Automatic File Sorter in File Explorer"
   ]
  },
  {
   "cell_type": "code",
   "execution_count": 5,
   "id": "18af31d6-1539-46e9-b9b6-f44930e048d1",
   "metadata": {},
   "outputs": [],
   "source": [
    "import os, shutil"
   ]
  },
  {
   "cell_type": "code",
   "execution_count": 9,
   "id": "8e354b66-f2b6-4fa7-bdd3-a8cda750047f",
   "metadata": {},
   "outputs": [],
   "source": [
    "path = r'C:/Users/user/Desktop/Data Projects/'"
   ]
  },
  {
   "cell_type": "code",
   "execution_count": 11,
   "id": "32a80862-3888-4eec-b7f0-24c670bbae69",
   "metadata": {},
   "outputs": [],
   "source": [
    "file_name = os.listdir(path)"
   ]
  },
  {
   "cell_type": "code",
   "execution_count": 13,
   "id": "c9707b36-0cf4-425c-bbeb-7100cef443e2",
   "metadata": {},
   "outputs": [
    {
     "data": {
      "text/plain": [
       "True"
      ]
     },
     "execution_count": 13,
     "metadata": {},
     "output_type": "execute_result"
    }
   ],
   "source": [
    "os.path.exists(path + 'csv files')"
   ]
  },
  {
   "cell_type": "code",
   "execution_count": 15,
   "id": "3a452108-3886-4d34-98cd-2cadcfb0b16c",
   "metadata": {},
   "outputs": [],
   "source": [
    "folder_names = ['csv files', 'txt files', 'xlsx files', 'tableau files', 'bi files']\n",
    "\n",
    "for loop in range(0, 5):\n",
    "    if not os.path.exists(path + folder_names[loop]):\n",
    "        #print(path + folder_names[loop])\n",
    "        os.makedirs((path + folder_names[loop]))\n",
    "\n"
   ]
  },
  {
   "cell_type": "code",
   "execution_count": null,
   "id": "b74ea345-f42a-474f-952a-459e5eac9448",
   "metadata": {},
   "outputs": [],
   "source": []
  },
  {
   "cell_type": "code",
   "execution_count": 32,
   "id": "1b53045e-6b95-4b59-87ab-f7200e32e8d1",
   "metadata": {},
   "outputs": [],
   "source": [
    "#for file in file_name:\n",
    "   # if '.csv' in file and not os.path.exists(path + 'csv files/'):\n",
    "       # shutil.move(path + file, path + 'csv files/')\n",
    "    #elif '.xlsx' in file and not os.path.exists(path + 'xlsx files/'):\n",
    "       # shutil.move(path + file, path + 'xlsx files/')\n",
    "    #elif '.twb' in file and not os.path.exists(path + 'tableau files/'):\n",
    "        #shutil.move(path + file, path + 'tableau files/')\n",
    "    #elif '.pbix' in file and not os.path.exists(path + 'bi files/'):\n",
    "       # shutil.move(path + file, path + 'bi files/')\n",
    "   # elif '.txt' in file and not os.path.exists(path + 'txt files/'):\n",
    "        #shutil.move(path + file, path + 'txt files/')"
   ]
  },
  {
   "cell_type": "code",
   "execution_count": 17,
   "id": "d0d2d586-63c6-4790-abb0-4b29f1088a42",
   "metadata": {},
   "outputs": [],
   "source": [
    "for file in file_name:\n",
    "    if file.endswith('.csv'):\n",
    "        shutil.move(os.path.join(path, file), os.path.join(path, 'csv files', file))\n",
    "    elif file.endswith('.xlsx'):\n",
    "        shutil.move(os.path.join(path, file), os.path.join(path, 'xlsx files', file))\n",
    "    elif file.endswith('.twb'):\n",
    "        shutil.move(os.path.join(path, file), os.path.join(path, 'tableau files', file))\n",
    "    elif file.endswith('.pbix'):\n",
    "        shutil.move(os.path.join(path, file), os.path.join(path, 'bi files', file))\n",
    "    elif file.endswith('.txt'):\n",
    "        shutil.move(os.path.join(path, file), os.path.join(path, 'txt files', file))"
   ]
  },
  {
   "cell_type": "code",
   "execution_count": null,
   "id": "f68b8f9f-6e1d-49c4-bf2c-5696451dcf2d",
   "metadata": {},
   "outputs": [],
   "source": []
  },
  {
   "cell_type": "code",
   "execution_count": null,
   "id": "1a2f9b23-4972-4706-af38-b492fd545e73",
   "metadata": {},
   "outputs": [],
   "source": []
  }
 ],
 "metadata": {
  "kernelspec": {
   "display_name": "Python 3 (ipykernel)",
   "language": "python",
   "name": "python3"
  },
  "language_info": {
   "codemirror_mode": {
    "name": "ipython",
    "version": 3
   },
   "file_extension": ".py",
   "mimetype": "text/x-python",
   "name": "python",
   "nbconvert_exporter": "python",
   "pygments_lexer": "ipython3",
   "version": "3.12.4"
  }
 },
 "nbformat": 4,
 "nbformat_minor": 5
}
