{
 "cells": [
  {
   "cell_type": "markdown",
   "id": "1b8d30c0-c549-4e01-9f5f-f1be02c80c8c",
   "metadata": {},
   "source": [
    "# BMI Calculator"
   ]
  },
  {
   "cell_type": "code",
   "execution_count": 40,
   "id": "77f94e23-82d0-4d54-9dc4-e2b8744cfa74",
   "metadata": {},
   "outputs": [
    {
     "name": "stdin",
     "output_type": "stream",
     "text": [
      "Enter your name: Alex\n",
      "Enter your weight in pounds:  170\n",
      "Enter your height in inches:  69\n"
     ]
    },
    {
     "name": "stdout",
     "output_type": "stream",
     "text": [
      "25.101869355177485\n",
      "Alex, you are overweight. You need to exercise more, stop sitting and writing so many Python tutorials\n"
     ]
    }
   ],
   "source": [
    "\n",
    "name = input('Enter your name:')\n",
    "weight = int(input('Enter your weight in pounds: '))\n",
    "\n",
    "height = int(input('Enter your height in inches: '))\n",
    "\n",
    "BMI = (weight * 703) / (height * height)\n",
    "\n",
    "print(BMI)\n",
    "\n",
    "if BMI > 0:\n",
    "    if(BMI < 16.0):\n",
    "        print(name + ', you are severely underweight.')\n",
    "    elif(BMI <= 24.9):\n",
    "        print(name + ', you are normal weight.')\n",
    "    elif(BMI < 29.9):\n",
    "        print(name + ', you are overweight. You need to exercise more, stop sitting and writing so many Python tutorials')\n",
    "    elif(BMI < 34.9):\n",
    "        print(name + ', you are obese.')\n",
    "    elif(BMI < 39.9):\n",
    "        print(name + ', you are severely obese.')\n",
    "    else:\n",
    "        print(name + ', you are morbidly obese.')\n",
    "else:\n",
    "    print('Enter valid input')"
   ]
  },
  {
   "cell_type": "code",
   "execution_count": 7,
   "id": "64ab9726-60c3-4aa8-8ad6-517efff716f4",
   "metadata": {},
   "outputs": [
    {
     "name": "stdout",
     "output_type": "stream",
     "text": [
      "170\n"
     ]
    }
   ],
   "source": [
    "print(weight)"
   ]
  },
  {
   "cell_type": "code",
   "execution_count": null,
   "id": "4dd211a8-93cb-43b9-9330-315d87b2e41b",
   "metadata": {},
   "outputs": [],
   "source": [
    "BMI\tCategory\n",
    "< 16.0\tSeverely Underweight\n",
    "16.0 - 18.4\tUnderweight\n",
    "18.5 - 24.9\tNormal\n",
    "25.0 - 29.9\tOverweight\n",
    "30.0 - 34.9\tModerately Obese\n",
    "35.0 - 39.9\tSeverely Obese\n",
    "> 40.0\tMorbidly Obese"
   ]
  },
  {
   "cell_type": "code",
   "execution_count": 34,
   "id": "027538ff-2ee0-4e41-b753-59997ae2f129",
   "metadata": {},
   "outputs": [
    {
     "name": "stdout",
     "output_type": "stream",
     "text": [
      "Alex, you are overweight.\n"
     ]
    }
   ],
   "source": [
    "if BMI > 0:\n",
    "    if(BMI < 16.0):\n",
    "        print(name + ', you are severely underweight.')\n",
    "    elif(BMI <= 24.9):\n",
    "        print(name + ', you are normal weight.')\n",
    "    elif(BMI < 29.9):\n",
    "        print(name + ', you are overweight.')\n",
    "    elif(BMI < 34.9):\n",
    "        print(name + ', you are obese.')\n",
    "    elif(BMI < 39.9):\n",
    "        print(name + ', you are severely obese.')\n",
    "    else:\n",
    "        print(name + ', you are morbidly obese.')\n",
    "else:\n",
    "    print('Enter valid input')"
   ]
  },
  {
   "cell_type": "code",
   "execution_count": null,
   "id": "8d9162bd-3b13-4670-9552-872f1f7cca52",
   "metadata": {},
   "outputs": [],
   "source": []
  },
  {
   "cell_type": "code",
   "execution_count": null,
   "id": "3d236b57-f036-4e26-a2f9-dbd178dc2884",
   "metadata": {},
   "outputs": [],
   "source": []
  },
  {
   "cell_type": "code",
   "execution_count": null,
   "id": "ace42e81-23c6-4b6f-b1d3-9b200f6906d0",
   "metadata": {},
   "outputs": [],
   "source": [
    "#BMI = (weight in pounds * 703) / (height in inches * heaight in inches)"
   ]
  },
  {
   "cell_type": "code",
   "execution_count": null,
   "id": "53f15497-51b6-4110-8fcf-a6c3502f7d66",
   "metadata": {},
   "outputs": [],
   "source": [
    "print(weight)"
   ]
  },
  {
   "cell_type": "code",
   "execution_count": null,
   "id": "0d3c170a-5028-487f-91bb-bfd42becc7d8",
   "metadata": {},
   "outputs": [],
   "source": []
  },
  {
   "cell_type": "code",
   "execution_count": null,
   "id": "b3a9dc1d-e0d6-4218-a566-05e46906a9d9",
   "metadata": {},
   "outputs": [],
   "source": []
  },
  {
   "cell_type": "code",
   "execution_count": null,
   "id": "443ddc39-4f6c-4bf1-9da6-7512a2f99fd5",
   "metadata": {},
   "outputs": [],
   "source": []
  },
  {
   "cell_type": "code",
   "execution_count": null,
   "id": "f9f919b2-427b-4904-9aeb-6b1e16372d4e",
   "metadata": {},
   "outputs": [],
   "source": []
  },
  {
   "cell_type": "code",
   "execution_count": null,
   "id": "c978aeaf-3bc3-4ff4-bbc5-1fd05385ae62",
   "metadata": {},
   "outputs": [],
   "source": []
  }
 ],
 "metadata": {
  "kernelspec": {
   "display_name": "Python 3 (ipykernel)",
   "language": "python",
   "name": "python3"
  },
  "language_info": {
   "codemirror_mode": {
    "name": "ipython",
    "version": 3
   },
   "file_extension": ".py",
   "mimetype": "text/x-python",
   "name": "python",
   "nbconvert_exporter": "python",
   "pygments_lexer": "ipython3",
   "version": "3.12.4"
  }
 },
 "nbformat": 4,
 "nbformat_minor": 5
}
